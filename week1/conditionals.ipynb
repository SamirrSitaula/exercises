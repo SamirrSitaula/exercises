{
 "cells": [
  {
   "cell_type": "code",
   "execution_count": 2,
   "id": "97496764-77da-456e-9462-cde60258fd95",
   "metadata": {
    "editable": true,
    "slideshow": {
     "slide_type": ""
    },
    "tags": []
   },
   "outputs": [
    {
     "name": "stdout",
     "output_type": "stream",
     "text": [
      "Hello, Python!\n"
     ]
    },
    {
     "data": {
      "text/plain": [
       "-10"
      ]
     },
     "execution_count": 2,
     "metadata": {},
     "output_type": "execute_result"
    }
   ],
   "source": [
    "# Print a simple message End - .\n",
    "print(\"Hello, Python!\")\n",
    "\n",
    "#Syntax - Grammer of a language\n",
    "# Sum of two numbers\n",
    "num1 = 10\n",
    "num2 = 20\n",
    "sum = num1 - num2\n",
    "sum\n",
    "-10"
   ]
  },
  {
   "cell_type": "code",
   "execution_count": 5,
   "id": "3077265c-9990-4c6c-b37a-e7d38c31f720",
   "metadata": {},
   "outputs": [
    {
     "name": "stdout",
     "output_type": "stream",
     "text": [
      " a is 10 and b is 23\n",
      "a is 10 and b is 23 and their sum is 33\n",
      "a is 10 and b is 23 and their sum is 33\n"
     ]
    }
   ],
   "source": [
    "# assign a variable\n",
    "a = 10\n",
    "b = 23\n",
    "# print the values using an f string (formatted string literals)\n",
    "print(f\" a is {a} and b is {b}\")\n",
    "print(\"a is {} and b is {} and their sum is {}\"\n",
    ".format(a, b, a + b)) #\n",
    "#uses the .format() method\n",
    "print(\"a is %d and b is %d and their sum is %d\" % (a, b, a + b)) # %"
   ]
  },
  {
   "cell_type": "code",
   "execution_count": 6,
   "id": "3e2f55f9-3410-4997-89fc-b0c4bab5d251",
   "metadata": {},
   "outputs": [
    {
     "name": "stdout",
     "output_type": "stream",
     "text": [
      "True\n"
     ]
    },
    {
     "data": {
      "text/plain": [
       "(3, 4)"
      ]
     },
     "execution_count": 6,
     "metadata": {},
     "output_type": "execute_result"
    }
   ],
   "source": [
    "#Typecasting\n",
    "number = 5.0\n",
    "# type(number)\n",
    "print(number.is_integer()) # True\n",
    "number\n",
    "ratio = (0.75).as_integer_ratio() # (3, 4)\n",
    "ratio"
   ]
  },
  {
   "cell_type": "code",
   "execution_count": 10,
   "id": "c03bf038-d5cc-4cd6-b54c-e84ca9d295d1",
   "metadata": {},
   "outputs": [
    {
     "name": "stdout",
     "output_type": "stream",
     "text": [
      "x is of type: <class 'int'>\n",
      "y is of type: <class 'float'>\n",
      "name is of type: <class 'str'>\n",
      "is_active is of type: <class 'bool'>\n"
     ]
    },
    {
     "data": {
      "text/plain": [
       "'3.1415900'"
      ]
     },
     "execution_count": 10,
     "metadata": {},
     "output_type": "execute_result"
    }
   ],
   "source": [
    "# Integer\n",
    "x = 10\n",
    "print(\"x is of type:\", type(x))\n",
    "# Float\n",
    "y = 3.14\n",
    "print(\"y is of type:\", type(y))\n",
    "# String\n",
    "name = \"John\"\n",
    "print(\"name is of type:\", type(name))\n",
    "# Boolean\n",
    "is_active = True\n",
    "print(\"is_active is of type:\", type(is_active))\n",
    "# Example\n",
    "a = 10 # Positive integer\n",
    "b = -3 # Negative integer\n",
    "c = 0 # Zero\n",
    "sum = 5 + 3 # 8\n",
    "difference = 10 - 2 # 8\n",
    "product = 4 * 7 # 28\n",
    "quotient = 20 / 4 # 5.0 (Note: Division always returns a float)\n",
    "# setting precision of float numbers\n",
    "formatted = \"{:.7f}\".format(3.14159) #3.14\n",
    "formatted"
   ]
  },
  {
   "cell_type": "code",
   "execution_count": 11,
   "id": "366bd117-54b0-4147-9ebf-d7e696ef0287",
   "metadata": {},
   "outputs": [
    {
     "name": "stdout",
     "output_type": "stream",
     "text": [
      "Converted to int: 5\n",
      "Converted to float: 25.0\n",
      "Converted to string: 90\n"
     ]
    }
   ],
   "source": [
    "# Convert float to int\n",
    "num = 5.67\n",
    "num_int = int(num)\n",
    "print(\"Converted to int:\", num_int)\n",
    "# Convert int to float\n",
    "age = 25\n",
    "age_float = float(age)\n",
    "print(\"Converted to float:\", age_float)\n",
    "# Convert int to string\n",
    "score = 90\n",
    "score_str = str(score)\n",
    "print(\"Converted to string:\", score_str)"
   ]
  },
  {
   "cell_type": "code",
   "execution_count": 12,
   "id": "81958e88-bc88-4fe5-9003-b86b8e7645ce",
   "metadata": {},
   "outputs": [
    {
     "name": "stdout",
     "output_type": "stream",
     "text": [
      "Addition: 13\n",
      "Subtraction: 7\n",
      "Multiplication: 30\n",
      "Division: 3.3333333333333335\n",
      "Floor Division: 3\n",
      "Modulus: 1\n",
      "Exponentiation: 1000\n"
     ]
    }
   ],
   "source": [
    "# Arithmetic operations\n",
    "a = 10\n",
    "b = 3\n",
    "print(\"Addition:\", a + b)\n",
    "print(\"Subtraction:\", a - b)\n",
    "print(\"Multiplication:\", a * b)\n",
    "print(\"Division:\", a / b)\n",
    "print(\"Floor Division:\", a // b)\n",
    "print(\"Modulus:\", a % b)\n",
    "print(\"Exponentiation:\", a ** b)\n",
    "bits = (100).bit_length() # 4 --> 1000 binary 0,1\n",
    "bits"
   ]
  },
  {
   "cell_type": "code",
   "execution_count": 13,
   "id": "6709af6e-1b04-4e0a-bee4-6ae2b00284ca",
   "metadata": {},
   "outputs": [
    {
     "name": "stdout",
     "output_type": "stream",
     "text": [
      "Is x equal to y? False\n",
      "Is x not equal to y? True\n",
      "Is x greater than y? False\n",
      "Is x less than or equal to y? True\n"
     ]
    }
   ],
   "source": [
    "# Comparison operations\n",
    "x = 10\n",
    "y = 20\n",
    "print(\"Is x equal to y?\", x == y)\n",
    "print(\"Is x not equal to y?\", x != y)\n",
    "print(\"Is x greater than y?\", x > y)\n",
    "print(\"Is x less than or equal to y?\", x <= y)"
   ]
  },
  {
   "cell_type": "code",
   "execution_count": 14,
   "id": "06da611d-7b4c-46fd-8ffd-edab4976266e",
   "metadata": {},
   "outputs": [
    {
     "name": "stdout",
     "output_type": "stream",
     "text": [
      "x > 0 and y > 0: True\n",
      "x > 0 or y < 0: True\n",
      "not(x > 0): False\n"
     ]
    }
   ],
   "source": [
    "# Logical operations\n",
    "x = 5\n",
    "y = 10\n",
    "print(\"x > 0 and y > 0:\", x > 0 and y > 0)\n",
    "print(\"x > 0 or y < 0:\", x > 0 or y < 0)\n",
    "print(\"not(x > 0):\", not(x > 0))"
   ]
  },
  {
   "cell_type": "code",
   "execution_count": 17,
   "id": "33e6cdb7-211a-441b-9d2a-ff85d7737d76",
   "metadata": {},
   "outputs": [
    {
     "name": "stdout",
     "output_type": "stream",
     "text": [
      "Hi welcome to your first Python Program!\n"
     ]
    }
   ],
   "source": [
    "# This is the first comment - explaining point 1\n",
    "number = 1 # and this is the second comment - explaining point 2\n",
    "# ... and now a third!\n",
    "#Meanwhile, this is not a comment' # explaining point 3\n",
    "Welcome = \"Hi welcome to your first Python Program!\" # explaining\n",
    "print(Welcome) #This is the 'print' Command"
   ]
  },
  {
   "cell_type": "code",
   "execution_count": 19,
   "id": "cf4f908d-5439-412c-8cd6-2ac31d8db02a",
   "metadata": {},
   "outputs": [
    {
     "name": "stdout",
     "output_type": "stream",
     "text": [
      "The number is positive.\n"
     ]
    }
   ],
   "source": [
    "# Checking if a number is positive, negative, or zero\n",
    "num = 5\n",
    "if num > 0:\n",
    "    print(\"The number is positive.\")\n",
    "elif num == 0:\n",
    "    print(\"The number is zero.\")\n",
    "else:\n",
    "    print(\"The number is negative.\")"
   ]
  },
  {
   "cell_type": "code",
   "execution_count": 21,
   "id": "fad4c67e-2985-47fa-a17e-663bde8f2655",
   "metadata": {},
   "outputs": [
    {
     "name": "stdout",
     "output_type": "stream",
     "text": [
      "The number is between 1 and 10.\n"
     ]
    }
   ],
   "source": [
    "# Checking if a number is between 1 and 10\n",
    "num = 7\n",
    "if num > 1 and num < 10:\n",
    "    print(\"The number is between 1 and 10.\")\n",
    "else:\n",
    "    print(\"The number is not in the range.\")"
   ]
  },
  {
   "cell_type": "code",
   "execution_count": 22,
   "id": "80ced7dd-4bcf-4adf-9e1a-51fee25b131b",
   "metadata": {},
   "outputs": [
    {
     "name": "stdout",
     "output_type": "stream",
     "text": [
      "7 is odd\n"
     ]
    }
   ],
   "source": [
    "number = 7\n",
    "if number % 2 == 0:\n",
    "    print(f\"{number} is even\")\n",
    "else:\n",
    "    print(f\"{number} is odd\")"
   ]
  },
  {
   "cell_type": "code",
   "execution_count": 24,
   "id": "1be81961-eb2b-4767-b2a3-7770da581b78",
   "metadata": {},
   "outputs": [
    {
     "name": "stdout",
     "output_type": "stream",
     "text": [
      "1\n",
      "2\n",
      "3\n",
      "4\n",
      "5\n",
      "0\n",
      "1\n",
      "2\n",
      "3\n",
      "4\n",
      "1\n",
      "6\n",
      "11\n",
      "16\n"
     ]
    }
   ],
   "source": [
    "# List of numbers\n",
    "numbers = [1, 2, 3, 4, 5]\n",
    "# Using a for loop to iterate through the list\n",
    "for num in numbers:\n",
    "    print(num)\n",
    "# For Loop with Range\n",
    "# Python's built-in range() function is often used with for loops to\n",
    "\n",
    "# Using range to print numbers from 0 to 4\n",
    "for i in range(5):\n",
    "    print(i)\n",
    "# range(start, stop, step)\n",
    "x = range(1, 20, 5)\n",
    "for i in x:\n",
    "    print(i)"
   ]
  },
  {
   "cell_type": "code",
   "execution_count": 25,
   "id": "fde7e7de-1979-4b6a-bfd0-3726d6483564",
   "metadata": {},
   "outputs": [
    {
     "name": "stdout",
     "output_type": "stream",
     "text": [
      "5\n",
      "4\n",
      "3\n",
      "2\n",
      "1\n"
     ]
    }
   ],
   "source": [
    "# Countdown using a while loop\n",
    "count = 5\n",
    "while count > 0:\n",
    "    print(count)\n",
    "    count -= 1 # Decrement the count"
   ]
  },
  {
   "cell_type": "code",
   "execution_count": 31,
   "id": "969c948b-1279-4711-91fc-322f9e87820d",
   "metadata": {},
   "outputs": [
    {
     "name": "stdout",
     "output_type": "stream",
     "text": [
      "5\n",
      "1\n",
      "3\n",
      "5\n",
      "7\n",
      "9\n"
     ]
    }
   ],
   "source": [
    "# Breaking out of a loop\n",
    "for num in range(10):\n",
    "    if num == 5:\n",
    "        break # Exit the loop when num is 5\n",
    "print(num)\n",
    "# Skipping an iteration\n",
    "for num in range(10):\n",
    "    if num % 2 == 0:\n",
    "        continue # Skip even numbers\n",
    "    print(num) # This will only print odd numbers"
   ]
  },
  {
   "cell_type": "code",
   "execution_count": 40,
   "id": "829e7ba9-a177-42e0-9095-15b8274bcb49",
   "metadata": {},
   "outputs": [
    {
     "name": "stdin",
     "output_type": "stream",
     "text": [
      "Enter your prompt here:  this is prompt\n",
      "What is your name?  samir\n"
     ]
    },
    {
     "name": "stdout",
     "output_type": "stream",
     "text": [
      "Hello, samir!\n"
     ]
    },
    {
     "name": "stdin",
     "output_type": "stream",
     "text": [
      "How old are you?  29\n"
     ]
    },
    {
     "name": "stdout",
     "output_type": "stream",
     "text": [
      "You are 29 years old.\n"
     ]
    },
    {
     "name": "stdin",
     "output_type": "stream",
     "text": [
      "Enter rock, paper, or scissors:  rock\n"
     ]
    },
    {
     "name": "stdout",
     "output_type": "stream",
     "text": [
      "Both chose rock. It's a tie!\n"
     ]
    },
    {
     "name": "stdin",
     "output_type": "stream",
     "text": [
      "Guess the number (between 1 and 10):  5\n"
     ]
    },
    {
     "name": "stdout",
     "output_type": "stream",
     "text": [
      "Correct! You guessed the number.\n"
     ]
    }
   ],
   "source": [
    "user_input = input(\"Enter your prompt here: \")\n",
    "name = input(\"What is your name? \")\n",
    "print(f\"Hello, {name}!\")\n",
    "age = int(input(\"How old are you? \")) # Converts the input to an\n",
    "\n",
    "print(f\"You are {age} years old.\")\n",
    "import random #Command to import packages (pre-made libraries of code)\n",
    "# Define the choices\n",
    "choices = [\"rock\", \"paper\", \"scissors\"]\n",
    "# Random choice for the computer\n",
    "computer_choice = random.choice(choices)\n",
    "# Player input\n",
    "player_choice = input(\"Enter rock, paper, or scissors: \").lower()\n",
    "# Determine the winner\n",
    "if player_choice == computer_choice:\n",
    "    print(f\"Both chose {player_choice}. It's a tie!\")\n",
    "elif (player_choice == \"rock\" and computer_choice == \"scissors\") or \\\n",
    "     (player_choice == \"scissors\" and computer_choice == \"paper\") or \\\n",
    "     (player_choice == \"paper\" and computer_choice == \"rock\"):\n",
    "    print(f\"You chose {player_choice} and the computer chose {computer_choice}. You win!\")\n",
    "else:\n",
    "    print(f\"You chose {player_choice} and the computer chose {computer_choice}. You lose!\")\n",
    "import random\n",
    "# Computer picks a random number between 1 and 10\n",
    "secret_number = random.randint(1, 10)\n",
    "# Player's guess\n",
    "while True:\n",
    "    guess = int(input(\"Guess the number (between 1 and 10): \"))\n",
    "    if guess == secret_number:\n",
    "        print(\"Correct! You guessed the number.\")\n",
    "    break\n",
    "\n",
    "else:\n",
    "    print(\"Try again!\")"
   ]
  },
  {
   "cell_type": "code",
   "execution_count": 21,
   "id": "5cabb9a4-202a-4981-b854-a298791280b0",
   "metadata": {},
   "outputs": [
    {
     "name": "stdin",
     "output_type": "stream",
     "text": [
      "Please enter your age 29\n"
     ]
    },
    {
     "name": "stdout",
     "output_type": "stream",
     "text": [
      "Congratulations. You are 29 years old and are eligible to Vote\n"
     ]
    }
   ],
   "source": [
    "\"\"\"\n",
    "Task 1: Simple Voting Eligibility Check\n",
    "• Task: Write a program that checks if a user is eligible to vote.\n",
    "\"\"\"\n",
    "\n",
    "#user inputs their age\n",
    "input_user = int(input(\"Please enter your age\"))\n",
    "\n",
    "#conditional if statement checks the age of user\n",
    "if input_user >= 18:\n",
    "    print(f\"Congratulations. You are {input_user} years old and are eligible to Vote\")\n",
    "    \n",
    "else:\n",
    "    print(f\"Sorry, You are only {input_user} years old now. You can only vote after {18 - input_user} Years later\")"
   ]
  },
  {
   "cell_type": "code",
   "execution_count": 17,
   "id": "0d54b546-a039-47ff-b016-6a7b7e16ec3b",
   "metadata": {},
   "outputs": [
    {
     "name": "stdin",
     "output_type": "stream",
     "text": [
      "Enter Number 1 77\n",
      "Enter Number 2 77\n",
      "What do you want me to perform: Addition, Subtraction, Multiplication, Division addition\n"
     ]
    },
    {
     "name": "stdout",
     "output_type": "stream",
     "text": [
      "You selected addition, The answer will be:154\n"
     ]
    }
   ],
   "source": [
    "\"\"\"\n",
    "Task 2: Create a simple calculator\n",
    "• Task: Create a simple calculator that performs basic arithmetic operations.\n",
    "\"\"\"\n",
    "#ask for two numbers\n",
    "num_1 = int(input(\"Enter Number 1\"))\n",
    "num_2 = int(input(\"Enter Number 2\"))\n",
    "\n",
    "#ask what they want to perform\n",
    "operation = input(\"What do you want me to perform: Addition, Subtraction, Multiplication, Division\").casefold()\n",
    "\n",
    "if operation == \"addition\":\n",
    "    print(f\"You selected addition, The answer will be:{num_1 + num_2}\")\n",
    "    \n",
    "elif operation == \"substraction\":\n",
    "    print(f\"You selected substraction, The answer will be either {abs(num_1 - num_2)} or {abs(num_2 - num_1)}\") #abs removes negative value of the answer\n",
    "\n",
    "elif operation == \"multiplication\":\n",
    "    print(f\"You selected multiplication, The answer will be:{num_1 * num_2}\")\n",
    "\n",
    "elif operation == \"division\":\n",
    "    #using condition inside condition\n",
    "    if num_1 == 0 or num_2 == 0: #checks if the number is zero\n",
    "        print(\"Number error, number cannot be zero\")\n",
    "    else:\n",
    "        print(f\"You selected addition, The answer will be : {num_1 / num_2} or {num_2 / num_1}\")\n",
    "\n",
    "else:\n",
    "    print(\"There has been a typo. Please enter again\")\n",
    "\n"
   ]
  },
  {
   "cell_type": "code",
   "execution_count": 13,
   "id": "d7cd5f13-769f-451c-8b05-b0a2a352e397",
   "metadata": {},
   "outputs": [
    {
     "name": "stdout",
     "output_type": "stream",
     "text": [
      "The maximum number is : 9\n",
      "The Minimum number is : 0\n"
     ]
    }
   ],
   "source": [
    "\"\"\"\n",
    "Task 3\n",
    " Find the Maximum and Minimum of a List\n",
    "– Question: Given a list of numbers, find the maximum and minimum values.\n",
    "\"\"\"\n",
    "list_num = [1,9, 7, 6, 5, 4, 8, 0]\n",
    "print(f\"The maximum number is : {(max(list_num))}\")\n",
    "\n",
    "print(f\"The Minimum number is : {(min(list_num))}\")"
   ]
  },
  {
   "cell_type": "code",
   "execution_count": 11,
   "id": "662d0a47-2485-45d8-97e5-7cd1d5a0d74f",
   "metadata": {},
   "outputs": [
    {
     "name": "stdin",
     "output_type": "stream",
     "text": [
      " Enter a number:  77\n"
     ]
    },
    {
     "name": "stdout",
     "output_type": "stream",
     "text": [
      "The entered number 77 is not a prime number.\n"
     ]
    }
   ],
   "source": [
    "\"\"\"\n",
    "Task 4\n",
    "Check for Prime Number\n",
    "– Question: Write a function to check if a given number is a prime number.\n",
    "\"\"\"\n",
    "def prime_func(num): #defining a function\n",
    "    if num <= 1: \n",
    "     return False\n",
    "\n",
    "    if num == 2:  #two is not a prime number\n",
    "        return True\n",
    "\n",
    "    if num % 2 == 0: #even numbers are not prime numbers\n",
    "        return False\n",
    "\n",
    "    \"\"\"checking all the remaining numbers where 3 is the \n",
    "    starting point and upto square root of entered number. 2 is the step needs to jump\"\"\"\n",
    "    for num_range in range(3, int(num ** 0.5) + 1, 2): \n",
    "        if num % num_range == 0: #sqr root of given number + 1 will be even number \n",
    "            return False\n",
    "\n",
    "    return True\n",
    "\n",
    "input_num = int(input(\" Enter a number: \")) #asking for input\n",
    "if prime_func(input_num): #calling the function\n",
    "    print(f\"The entered number {input_num} is prime number.\")\n",
    "\n",
    "else:\n",
    "    print(f\"The entered number {input_num} is not a prime number.\")\n",
    "    \n",
    "    "
   ]
  },
  {
   "cell_type": "code",
   "execution_count": 7,
   "id": "2fbe5a4d-fd69-4906-a247-f8ef2294064b",
   "metadata": {},
   "outputs": [
    {
     "name": "stdin",
     "output_type": "stream",
     "text": [
      "Enter the number 7\n"
     ]
    },
    {
     "name": "stdout",
     "output_type": "stream",
     "text": [
      " the factorial of given number 7 is 5040\n"
     ]
    }
   ],
   "source": [
    "\"\"\" Task 5\n",
    " Factorial of a Number\n",
    "– Question: Compute the factorial of a given number using recursion.\n",
    "\"\"\"\n",
    "def factorial(num):\n",
    "    if num == 0 or num == 1:\n",
    "        return 1\n",
    "\n",
    "    else:\n",
    "        return num * factorial(num-1)\n",
    "\n",
    "\n",
    "input_num = int(input(\"Enter the number\"))\n",
    "print(f\" the factorial of given number {input_num} is {factorial(input_num)}\")"
   ]
  },
  {
   "cell_type": "code",
   "execution_count": 33,
   "id": "32d2932f-4551-4d62-9a12-1040179c6376",
   "metadata": {},
   "outputs": [
    {
     "name": "stdin",
     "output_type": "stream",
     "text": [
      "Enter nth term 7\n"
     ]
    },
    {
     "name": "stdout",
     "output_type": "stream",
     "text": [
      "0\n",
      "1\n",
      "1\n",
      "2\n",
      "3\n",
      "5\n",
      "8\n"
     ]
    }
   ],
   "source": [
    "\"\"\" \n",
    "TASK 7\n",
    "Fibonacci Sequence\n",
    "– Question: Generate the Fibonacci sequence up to a given number of terms.\n",
    "\"\"\"\n",
    "\n",
    "\n",
    "def fibo_series(n):\n",
    "    a = 0\n",
    "    b = 1\n",
    "    for _ in range(n):\n",
    "        print(a)\n",
    "        \n",
    "        #This generates 0,1,2,4,8,16,32 because the value of 'a' changes earlier than value of b\n",
    "        # a = b\n",
    "        # b = a + b\n",
    "        a, b = b, a + b\n",
    "nth_term = int(input(\"Enter nth term\"))\n",
    "\n",
    "if nth_term <= 0:\n",
    "    print(\"I don't support negartive number\")\n",
    "\n",
    "else:\n",
    "    fibo_series(nth_term)\n",
    "    \n",
    "\n",
    "\n",
    "#while loop\n",
    "def fibo_series(n):\n",
    "    a = 0\n",
    "    b = 1\n",
    "    start = 0\n",
    "    while start < n:\n",
    "        print(a)\n",
    "        a, b = b, a + b\n",
    "        start += 1\n",
    "\n",
    "nth_term = int(input(\"Enter nth term: \"))\n",
    "\n",
    "if nth_term <= 0:\n",
    "    print(\"I don't support negative numbers\")\n",
    "else:\n",
    "    fibo_series(nth_term)\n"
   ]
  },
  {
   "cell_type": "code",
   "execution_count": 37,
   "id": "78c2f68c-d092-4925-8ecf-699de67a73d8",
   "metadata": {},
   "outputs": [
    {
     "name": "stdin",
     "output_type": "stream",
     "text": [
      "Enter a number:  67\n"
     ]
    },
    {
     "name": "stdout",
     "output_type": "stream",
     "text": [
      "Sum of digits: 13\n"
     ]
    }
   ],
   "source": [
    "\"\"\"\n",
    "TASK 8 \n",
    "Sum of Digits\n",
    "– Question: Write a function to calculate the sum of digits of a given integer.\n",
    "\"\"\"\n",
    "def sum_of_digits(number):\n",
    "    # Convert the number to positive if it's negative\n",
    "    number = abs(number)\n",
    "    \n",
    "    # Initialize sum to 0\n",
    "    total = 0\n",
    "    \n",
    "    # Convert the number to a string to iterate through each digit\n",
    "    for digit in str(number):\n",
    "        total += int(digit)  # Convert each character back to an integer and add to sum\n",
    "    \n",
    "    return total\n",
    "\n",
    "# Input: an integer\n",
    "number = int(input(\"Enter a number: \"))\n",
    "\n",
    "# Call the function and print the result\n",
    "print(\"Sum of digits:\", sum_of_digits(number))"
   ]
  },
  {
   "cell_type": "code",
   "execution_count": 53,
   "id": "1f49e958-4df6-4a2c-937d-9255765a4066",
   "metadata": {},
   "outputs": [
    {
     "name": "stdin",
     "output_type": "stream",
     "text": [
      "num 12\n"
     ]
    },
    {
     "name": "stdout",
     "output_type": "stream",
     "text": [
      "3\n"
     ]
    }
   ],
   "source": [
    "def add_digit(num):\n",
    "    sum_num = 0\n",
    "    for digits in str(num):\n",
    "        sum_num = sum_num + int(digits)\n",
    "\n",
    "    return sum_num\n",
    "num = int(input(\"num\"))\n",
    "print(add_digit(num))"
   ]
  },
  {
   "cell_type": "code",
   "execution_count": 26,
   "id": "3d06d1d1-38b8-4dfe-bfe2-d917ca7bde02",
   "metadata": {},
   "outputs": [
    {
     "name": "stdout",
     "output_type": "stream",
     "text": [
      "        Ship Mode    Segment        Country             City       State  \\\n",
      "0    Second Class   Consumer  United States        Henderson    Kentucky   \n",
      "1    Second Class   Consumer  United States        Henderson    Kentucky   \n",
      "2    Second Class  Corporate  United States      Los Angeles  California   \n",
      "3  Standard Class   Consumer  United States  Fort Lauderdale     Florida   \n",
      "4  Standard Class   Consumer  United States  Fort Lauderdale     Florida   \n",
      "5  Standard Class   Consumer  United States      Los Angeles  California   \n",
      "\n",
      "   Postal Code Region         Category Sub-Category     Sales  Quantity  \\\n",
      "0        42420  South        Furniture    Bookcases  261.9600         2   \n",
      "1        42420  South        Furniture       Chairs  731.9400         3   \n",
      "2        90036   West  Office Supplies       Labels   14.6200         2   \n",
      "3        33311  South        Furniture       Tables  957.5775         5   \n",
      "4        33311  South  Office Supplies      Storage   22.3680         2   \n",
      "5        90032   West        Furniture  Furnishings   48.8600         7   \n",
      "\n",
      "   Discount    Profit  \n",
      "0      0.00   41.9136  \n",
      "1      0.00  219.5820  \n",
      "2      0.00    6.8714  \n",
      "3      0.45 -383.0310  \n",
      "4      0.20    2.5164  \n",
      "5      0.00   14.1694  \n",
      "Ship Mode        Second Class\n",
      "Segment              Consumer\n",
      "Country         United States\n",
      "City                Henderson\n",
      "State                Kentucky\n",
      "Postal Code             42420\n",
      "Region                  South\n",
      "Category            Furniture\n",
      "Sub-Category        Bookcases\n",
      "Sales                  261.96\n",
      "Quantity                    2\n",
      "Discount                  0.0\n",
      "Profit                41.9136\n",
      "Name: 0, dtype: object\n"
     ]
    },
    {
     "ename": "ValueError",
     "evalue": "Length mismatch: Expected axis has 13 elements, new values have 2 elements",
     "output_type": "error",
     "traceback": [
      "\u001b[0;31m---------------------------------------------------------------------------\u001b[0m",
      "\u001b[0;31mValueError\u001b[0m                                Traceback (most recent call last)",
      "Cell \u001b[0;32mIn[26], line 37\u001b[0m\n\u001b[1;32m     12\u001b[0m \u001b[38;5;28mprint\u001b[39m(first_row)\n\u001b[1;32m     13\u001b[0m \u001b[38;5;66;03m# print(df.info())\u001b[39;00m\n\u001b[1;32m     14\u001b[0m \u001b[38;5;66;03m# print(df.describe())\u001b[39;00m\n\u001b[1;32m     15\u001b[0m \u001b[38;5;66;03m# print(df.info())\u001b[39;00m\n\u001b[0;32m   (...)\u001b[0m\n\u001b[1;32m     34\u001b[0m \u001b[38;5;66;03m# print\u001b[39;00m\n\u001b[1;32m     35\u001b[0m \u001b[38;5;66;03m# print(df['State'].dtype)\u001b[39;00m\n\u001b[0;32m---> 37\u001b[0m df\u001b[38;5;241m.\u001b[39mcolumns \u001b[38;5;241m=\u001b[39m [\u001b[38;5;124m'\u001b[39m\u001b[38;5;124mStates\u001b[39m\u001b[38;5;124m'\u001b[39m, \u001b[38;5;124m'\u001b[39m\u001b[38;5;124mnoneStates\u001b[39m\u001b[38;5;124m'\u001b[39m]\n\u001b[1;32m     38\u001b[0m \u001b[38;5;66;03m# print(df)\u001b[39;00m\n\u001b[1;32m     40\u001b[0m \u001b[38;5;28mprint\u001b[39m(df\u001b[38;5;241m.\u001b[39mshape[\u001b[38;5;241m1\u001b[39m])\n",
      "File \u001b[0;32m/opt/anaconda3/lib/python3.12/site-packages/pandas/core/generic.py:6313\u001b[0m, in \u001b[0;36mNDFrame.__setattr__\u001b[0;34m(self, name, value)\u001b[0m\n\u001b[1;32m   6311\u001b[0m \u001b[38;5;28;01mtry\u001b[39;00m:\n\u001b[1;32m   6312\u001b[0m     \u001b[38;5;28mobject\u001b[39m\u001b[38;5;241m.\u001b[39m\u001b[38;5;21m__getattribute__\u001b[39m(\u001b[38;5;28mself\u001b[39m, name)\n\u001b[0;32m-> 6313\u001b[0m     \u001b[38;5;28;01mreturn\u001b[39;00m \u001b[38;5;28mobject\u001b[39m\u001b[38;5;241m.\u001b[39m\u001b[38;5;21m__setattr__\u001b[39m(\u001b[38;5;28mself\u001b[39m, name, value)\n\u001b[1;32m   6314\u001b[0m \u001b[38;5;28;01mexcept\u001b[39;00m \u001b[38;5;167;01mAttributeError\u001b[39;00m:\n\u001b[1;32m   6315\u001b[0m     \u001b[38;5;28;01mpass\u001b[39;00m\n",
      "File \u001b[0;32mproperties.pyx:69\u001b[0m, in \u001b[0;36mpandas._libs.properties.AxisProperty.__set__\u001b[0;34m()\u001b[0m\n",
      "File \u001b[0;32m/opt/anaconda3/lib/python3.12/site-packages/pandas/core/generic.py:814\u001b[0m, in \u001b[0;36mNDFrame._set_axis\u001b[0;34m(self, axis, labels)\u001b[0m\n\u001b[1;32m    809\u001b[0m \u001b[38;5;250m\u001b[39m\u001b[38;5;124;03m\"\"\"\u001b[39;00m\n\u001b[1;32m    810\u001b[0m \u001b[38;5;124;03mThis is called from the cython code when we set the `index` attribute\u001b[39;00m\n\u001b[1;32m    811\u001b[0m \u001b[38;5;124;03mdirectly, e.g. `series.index = [1, 2, 3]`.\u001b[39;00m\n\u001b[1;32m    812\u001b[0m \u001b[38;5;124;03m\"\"\"\u001b[39;00m\n\u001b[1;32m    813\u001b[0m labels \u001b[38;5;241m=\u001b[39m ensure_index(labels)\n\u001b[0;32m--> 814\u001b[0m \u001b[38;5;28mself\u001b[39m\u001b[38;5;241m.\u001b[39m_mgr\u001b[38;5;241m.\u001b[39mset_axis(axis, labels)\n\u001b[1;32m    815\u001b[0m \u001b[38;5;28mself\u001b[39m\u001b[38;5;241m.\u001b[39m_clear_item_cache()\n",
      "File \u001b[0;32m/opt/anaconda3/lib/python3.12/site-packages/pandas/core/internals/managers.py:238\u001b[0m, in \u001b[0;36mBaseBlockManager.set_axis\u001b[0;34m(self, axis, new_labels)\u001b[0m\n\u001b[1;32m    236\u001b[0m \u001b[38;5;28;01mdef\u001b[39;00m \u001b[38;5;21mset_axis\u001b[39m(\u001b[38;5;28mself\u001b[39m, axis: AxisInt, new_labels: Index) \u001b[38;5;241m-\u001b[39m\u001b[38;5;241m>\u001b[39m \u001b[38;5;28;01mNone\u001b[39;00m:\n\u001b[1;32m    237\u001b[0m     \u001b[38;5;66;03m# Caller is responsible for ensuring we have an Index object.\u001b[39;00m\n\u001b[0;32m--> 238\u001b[0m     \u001b[38;5;28mself\u001b[39m\u001b[38;5;241m.\u001b[39m_validate_set_axis(axis, new_labels)\n\u001b[1;32m    239\u001b[0m     \u001b[38;5;28mself\u001b[39m\u001b[38;5;241m.\u001b[39maxes[axis] \u001b[38;5;241m=\u001b[39m new_labels\n",
      "File \u001b[0;32m/opt/anaconda3/lib/python3.12/site-packages/pandas/core/internals/base.py:98\u001b[0m, in \u001b[0;36mDataManager._validate_set_axis\u001b[0;34m(self, axis, new_labels)\u001b[0m\n\u001b[1;32m     95\u001b[0m     \u001b[38;5;28;01mpass\u001b[39;00m\n\u001b[1;32m     97\u001b[0m \u001b[38;5;28;01melif\u001b[39;00m new_len \u001b[38;5;241m!=\u001b[39m old_len:\n\u001b[0;32m---> 98\u001b[0m     \u001b[38;5;28;01mraise\u001b[39;00m \u001b[38;5;167;01mValueError\u001b[39;00m(\n\u001b[1;32m     99\u001b[0m         \u001b[38;5;124mf\u001b[39m\u001b[38;5;124m\"\u001b[39m\u001b[38;5;124mLength mismatch: Expected axis has \u001b[39m\u001b[38;5;132;01m{\u001b[39;00mold_len\u001b[38;5;132;01m}\u001b[39;00m\u001b[38;5;124m elements, new \u001b[39m\u001b[38;5;124m\"\u001b[39m\n\u001b[1;32m    100\u001b[0m         \u001b[38;5;124mf\u001b[39m\u001b[38;5;124m\"\u001b[39m\u001b[38;5;124mvalues have \u001b[39m\u001b[38;5;132;01m{\u001b[39;00mnew_len\u001b[38;5;132;01m}\u001b[39;00m\u001b[38;5;124m elements\u001b[39m\u001b[38;5;124m\"\u001b[39m\n\u001b[1;32m    101\u001b[0m     )\n",
      "\u001b[0;31mValueError\u001b[0m: Length mismatch: Expected axis has 13 elements, new values have 2 elements"
     ]
    }
   ],
   "source": []
  },
  {
   "cell_type": "code",
   "execution_count": null,
   "id": "892a52cb-1ee1-411d-99e7-a2691c5649b3",
   "metadata": {},
   "outputs": [],
   "source": []
  },
  {
   "cell_type": "code",
   "execution_count": null,
   "id": "0bf7df0f-3c6a-43bc-9eff-7e7d02d4320d",
   "metadata": {},
   "outputs": [],
   "source": []
  }
 ],
 "metadata": {
  "kernelspec": {
   "display_name": "Python [conda env:base] *",
   "language": "python",
   "name": "conda-base-py"
  },
  "language_info": {
   "codemirror_mode": {
    "name": "ipython",
    "version": 3
   },
   "file_extension": ".py",
   "mimetype": "text/x-python",
   "name": "python",
   "nbconvert_exporter": "python",
   "pygments_lexer": "ipython3",
   "version": "3.12.7"
  }
 },
 "nbformat": 4,
 "nbformat_minor": 5
}
