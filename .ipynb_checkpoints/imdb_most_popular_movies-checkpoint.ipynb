{
 "cells": [
  {
   "cell_type": "code",
   "execution_count": 1,
   "id": "0a262a2b-9638-4e92-bcfc-1642760560f1",
   "metadata": {},
   "outputs": [
    {
     "name": "stdout",
     "output_type": "stream",
     "text": [
      "Data saved to 'most_popular_movies.csv'\n"
     ]
    }
   ],
   "source": [
    "# Import necessary libraries\n",
    "import requests  # For sending HTTP requests\n",
    "from bs4 import BeautifulSoup  # For parsing HTML content\n",
    "import pandas as pd  # For creating and manipulating DataFrames\n",
    "import json  # For working with JSON data\n",
    "\n",
    "# Step 1: Send a GET request to the IMDb \"Most Popular Movies\" page\n",
    "url = \"https://www.imdb.com/chart/moviemeter\"  # URL of IMDb's most popular movies chart\n",
    "\n",
    "# Define headers to mimic a browser visit and avoid being blocked\n",
    "headers = {\"User-Agent\": \"Mozilla/5.0\"}\n",
    "\n",
    "# Send GET request to fetch the content of the page\n",
    "response = requests.get(url, headers=headers)\n",
    "\n",
    "# Step 2: Parse the HTML content using BeautifulSoup\n",
    "soup = BeautifulSoup(response.text, 'html.parser')\n",
    "\n",
    "# Step 3: Extract the JSON-LD structured data containing movie details\n",
    "# IMDb stores movie data in a <script> tag of type 'application/ld+json'\n",
    "script_tag = soup.find('script', type='application/ld+json')\n",
    "\n",
    "# If the script tag containing JSON data is found\n",
    "if script_tag:\n",
    "    # Convert the JSON string to a Python dictionary\n",
    "    data = json.loads(script_tag.string)\n",
    "\n",
    "    # Step 4: Initialize lists to store the movie details\n",
    "    titles = []\n",
    "    urls = []\n",
    "    descriptions = []\n",
    "    best_ratings = []\n",
    "    worst_ratings = []\n",
    "    rating_values = []\n",
    "    genres = []\n",
    "    durations = []\n",
    "\n",
    "    # Step 5: Extract movie details from the 'itemListElement' key in the JSON data\n",
    "    if 'itemListElement' in data:\n",
    "        for item in data['itemListElement']:\n",
    "            movie = item.get('item', {})\n",
    "\n",
    "            # Extract movie details, using 'N/A' if the field is missing\n",
    "            titles.append(movie.get('name', 'N/A'))\n",
    "            urls.append(movie.get('url', 'N/A'))\n",
    "            descriptions.append(movie.get('description', 'N/A'))\n",
    "            best_ratings.append(movie.get('aggregateRating', {}).get('bestRating', 'N/A'))\n",
    "            worst_ratings.append(movie.get('aggregateRating', {}).get('worstRating', 'N/A'))\n",
    "            rating_values.append(movie.get('aggregateRating', {}).get('ratingValue', 'N/A'))\n",
    "            genres.append(movie.get('genre', 'N/A'))\n",
    "            durations.append(movie.get('duration', 'N/A'))\n",
    "\n",
    "    # Step 6: Create a pandas DataFrame with the extracted data\n",
    "    df = pd.DataFrame({\n",
    "        'Title': titles,\n",
    "        'URL': urls,\n",
    "        'Description': descriptions,\n",
    "        'Best Rating': best_ratings,\n",
    "        'Worst Rating': worst_ratings,\n",
    "        'Rating Value': rating_values,\n",
    "        'Genre': genres,\n",
    "        'Duration': durations\n",
    "    })\n",
    "\n",
    "    # Step 7: Save the DataFrame to a CSV file\n",
    "    df.to_csv('most_popular_movies.csv', index=False)  # Save the DataFrame as a CSV file\n",
    "    print(\"Data saved to 'most_popular_movies.csv'\")  # Notify the user\n",
    "\n",
    "else:\n",
    "    print(\"No JSON-LD data found on the page.\")\n"
   ]
  },
  {
   "cell_type": "code",
   "execution_count": 3,
   "id": "32e739c0-88d4-4a92-88cf-9318588a27a5",
   "metadata": {},
   "outputs": [
    {
     "name": "stdout",
     "output_type": "stream",
     "text": [
      "Data cleaning complete.\n"
     ]
    }
   ],
   "source": [
    "# Data Cleaning: Handle missing values and duplicates\n",
    "df = df.drop_duplicates()  # Remove duplicate rows\n",
    "df = df.fillna('N/A')  # Fill missing values with 'N/A' (or use another method like mean/median for numeric columns)\n",
    "\n",
    "# Example: Remove rows where 'Title' or 'Rating Value' is missing\n",
    "df = df[df['Title'] != 'N/A']\n",
    "df = df[df['Rating Value'] != 'N/A']\n",
    "\n",
    "# Optional: Convert 'Rating Value' to numeric if needed\n",
    "df['Rating Value'] = pd.to_numeric(df['Rating Value'], errors='coerce')\n",
    "\n",
    "print(\"Data cleaning complete.\")\n"
   ]
  },
  {
   "cell_type": "code",
   "execution_count": 5,
   "id": "acac6e6a-753f-43d5-8c97-830777c007a2",
   "metadata": {},
   "outputs": [
    {
     "name": "stdout",
     "output_type": "stream",
     "text": [
      "Data preprocessing complete.\n"
     ]
    }
   ],
   "source": [
    "# Data Preprocessing: Example of encoding categorical data and scaling numerical data\n",
    "from sklearn.preprocessing import LabelEncoder, StandardScaler\n",
    "\n",
    "# Example: Encoding 'Genre' column (if it's categorical)\n",
    "encoder = LabelEncoder()\n",
    "df['Genre'] = encoder.fit_transform(df['Genre'])\n",
    "\n",
    "# Example: Scaling 'Rating Value' (numeric column)\n",
    "scaler = StandardScaler()\n",
    "df['Rating Value'] = scaler.fit_transform(df[['Rating Value']])\n",
    "\n",
    "print(\"Data preprocessing complete.\")\n"
   ]
  },
  {
   "cell_type": "code",
   "execution_count": 7,
   "id": "43fcb79e-d8ec-4535-aea3-85cd62d3230b",
   "metadata": {},
   "outputs": [
    {
     "name": "stdout",
     "output_type": "stream",
     "text": [
      "                Title                                     URL  \\\n",
      "0           Mickey 17  https://www.imdb.com/title/tt12299608/   \n",
      "1               Anora  https://www.imdb.com/title/tt28607951/   \n",
      "2  The Electric State   https://www.imdb.com/title/tt7766378/   \n",
      "3           Black Bag  https://www.imdb.com/title/tt30988739/   \n",
      "4             Heretic  https://www.imdb.com/title/tt28015403/   \n",
      "\n",
      "                                         Description Best Rating Worst Rating  \\\n",
      "0  Mickey 17, known as an &quot;expendable,&quot;...          10            1   \n",
      "1  A young escort from Brooklyn meets and impulsi...          10            1   \n",
      "2  An orphaned teen hits the road with a mysterio...          10            1   \n",
      "3  When intelligence agent Kathryn Woodhouse is s...          10            1   \n",
      "4  Two young religious women are drawn into a gam...          10            1   \n",
      "\n",
      "   Rating Value  Genre Duration  \n",
      "0      0.258532     13  PT2H17M  \n",
      "1      0.700888     27  PT2H19M  \n",
      "2     -0.714650      0   PT2H8M  \n",
      "3      0.523946     43  PT1H33M  \n",
      "4      0.170061     50  PT1H51M  \n"
     ]
    }
   ],
   "source": [
    "# Display a sample of the cleaned and preprocessed data\n",
    "print(df.head())  # Show the first 5 rows of the dataset"
   ]
  },
  {
   "cell_type": "code",
   "execution_count": 9,
   "id": "86f8139f-6f8c-4bef-a56f-a7f3bc0406c8",
   "metadata": {},
   "outputs": [
    {
     "name": "stdout",
     "output_type": "stream",
     "text": [
      "Final dataset prepared and saved as 'cleaned_most_popular_movies.csv'.\n"
     ]
    }
   ],
   "source": [
    "# Prepare the final dataset and save it as a cleaned version\n",
    "df.to_csv('cleaned_most_popular_movies.csv', index=False)\n",
    "print(\"Final dataset prepared and saved as 'cleaned_most_popular_movies.csv'.\")\n"
   ]
  },
  {
   "cell_type": "code",
   "execution_count": null,
   "id": "45d89ff3-7992-4329-a17c-88dd13ae1fe7",
   "metadata": {},
   "outputs": [],
   "source": [
    "#document code with docstring\n",
    "import requests\n",
    "from bs4 import BeautifulSoup\n",
    "import pandas as pd\n",
    "import json\n",
    "\n",
    "# Function to scrape and save movie data from IMDb\n",
    "def scrape_imdb_data():\n",
    "    \"\"\"\n",
    "    This function scrapes the IMDb Most Popular Movies page and extracts \n",
    "    movie details including title, rating, description, and more. It stores \n",
    "    the extracted data in a pandas DataFrame and saves it as a CSV file.\n",
    "    \"\"\"\n",
    "    url = \"https://www.imdb.com/chart/moviemeter\"\n",
    "    headers = {\"User-Agent\": \"Mozilla/5.0\"}\n",
    "    response = requests.get(url, headers=headers)\n",
    "    soup = BeautifulSoup(response.text, 'html.parser')\n",
    "    \n",
    "    script_tag = soup.find('script', type='application/ld+json')\n",
    "    \n",
    "    if script_tag:\n",
    "        data = json.loads(script_tag.string)\n",
    "        \n",
    "        # Initialize lists to store data\n",
    "        titles, urls, descriptions, best_ratings = [], [], [], []\n",
    "        worst_ratings, rating_values, genres, durations = [], [], [], []\n",
    "        \n",
    "        # Extract movie details from the JSON data\n",
    "        if 'itemListElement' in data:\n",
    "            for item in data['itemListElement']:\n",
    "                movie = item['item']\n",
    "                titles.append(movie.get('name', 'N/A'))\n",
    "                urls.append(movie.get('url', 'N/A'))\n",
    "                descriptions.append(movie.get('description', 'N/A'))\n",
    "                best_ratings.append(movie.get('aggregateRating', {}).get('bestRating', 'N/A'))\n",
    "                worst_ratings.append(movie.get('aggregateRating', {}).get('worstRating', 'N/A'))\n",
    "                rating_values.append(movie.get('aggregateRating', {}).get('ratingValue', 'N/A'))\n",
    "                genres.append(movie.get('genre', 'N/A'))\n",
    "                durations.append(movie.get('duration', 'N/A'))\n",
    "        \n",
    "        # Create a DataFrame\n",
    "        df = pd.DataFrame({\n",
    "            'Title': titles,\n",
    "            'URL': urls,\n",
    "            'Description': descriptions,\n",
    "            'Best Rating': best_ratings,\n",
    "            'Worst Rating': worst_ratings,\n",
    "            'Rating Value': rating_values,\n",
    "            'Genre': genres,\n",
    "            'Duration': durations\n",
    "        })\n",
    "        \n",
    "        # Save the DataFrame as a CSV file\n",
    "        df.to_csv('most_popular_movies.csv', index=False)\n",
    "        print(\"Data saved to 'most_popular_movies.csv'\")\n",
    "    \n",
    "    else:\n",
    "        print(\"No data found.\")\n",
    "\n",
    "# Call the function to scrape data and save it\n",
    "scrape_imdb_data()\n"
   ]
  }
 ],
 "metadata": {
  "kernelspec": {
   "display_name": "Python [conda env:base] *",
   "language": "python",
   "name": "conda-base-py"
  },
  "language_info": {
   "codemirror_mode": {
    "name": "ipython",
    "version": 3
   },
   "file_extension": ".py",
   "mimetype": "text/x-python",
   "name": "python",
   "nbconvert_exporter": "python",
   "pygments_lexer": "ipython3",
   "version": "3.12.7"
  }
 },
 "nbformat": 4,
 "nbformat_minor": 5
}
