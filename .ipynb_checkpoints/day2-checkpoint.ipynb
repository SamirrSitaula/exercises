{
 "cells": [
  {
   "cell_type": "code",
   "execution_count": 1,
   "id": "6667c561-4266-41d5-9ae4-bc9dc1b94b63",
   "metadata": {},
   "outputs": [
    {
     "name": "stdout",
     "output_type": "stream",
     "text": [
      "{'sugar': 32, 'salt': 35, 'biscuits': 16, 'noodles': 20, 'apple': 5}\n",
      "{'sugar': 32, 'salt': 35, 'biscuits': 16, 'noodles': 20, 'apple': 5, 'banana': 5}\n",
      "{'sugar': 32, 'salt': 35, 'biscuits': 16, 'noodles': 20, 'apple': 5, 'banana': 27}\n"
     ]
    }
   ],
   "source": [
    "#dict to store the prices of 5 items from a grocery store\n",
    "items_dict = {\n",
    "\"sugar\": 32,\n",
    " \"salt\": 35,\n",
    " \"biscuits\": 16,\n",
    "\"noodles\": 20,\n",
    "\"apple\" :5\n",
    "}\n",
    "print (items_dict)\n",
    "\n",
    "items_dict[\"banana\"] = 5\n",
    "print(items_dict)\n",
    "\n",
    "items_dict[\"banana\"] = 27\n",
    "print(items_dict)\n",
    "\n",
    "del items_dict[\"banana\"] \n"
   ]
  },
  {
   "cell_type": "code",
   "execution_count": 3,
   "id": "19564790-c527-4767-96ea-948b063ac1aa",
   "metadata": {},
   "outputs": [
    {
     "name": "stdout",
     "output_type": "stream",
     "text": [
      "python the basics\n",
      "Kiran\n",
      "2011\n"
     ]
    }
   ],
   "source": [
    "fav_books = (\"python the basics\", \"Kiran\", 2011)\n",
    "print(fav_books[0])\n",
    "print(fav_books[1])\n",
    "print(fav_books[2])"
   ]
  },
  {
   "cell_type": "code",
   "execution_count": 5,
   "id": "ae67195e-6025-4631-8280-76b4b4e69f05",
   "metadata": {},
   "outputs": [
    {
     "name": "stdout",
     "output_type": "stream",
     "text": [
      "['movie 1', 'movie 2', 'movie 3', 'movie 4', 'movie 5']\n",
      "movie 2\n",
      "['movie 1', 'movie 2', 'movie 3', 'movie 4', 'movie 5', 'movie 6']\n",
      "['movie 1', 'movie 2', 'Movie 2 new', 'movie 3', 'movie 4', 'movie 5', 'movie 6']\n",
      "['movie 1', 'movie 2', 'Movie 2 new', 'movie 4', 'movie 5', 'movie 6']\n"
     ]
    }
   ],
   "source": [
    "favorite_movies = [\n",
    "    \"movie 1\", \n",
    "    \"movie 2\", \n",
    "    \"movie 3\", \n",
    "    \"movie 4\",\n",
    "    \"movie 5\"]\n",
    "print(favorite_movies)\n",
    "print(favorite_movies[1])\n",
    "\n",
    "favorite_movies.append(\"movie 6\") \n",
    "print(favorite_movies)\n",
    "\n",
    "favorite_movies.insert(2, \"Movie 2 new\") \n",
    "print(favorite_movies)\n",
    "\n",
    "favorite_movies.remove(\"movie 3\")\n",
    "print(favorite_movies)\n"
   ]
  },
  {
   "cell_type": "code",
   "execution_count": 7,
   "id": "b0dab0f3-d9c7-411f-8482-d86d8a54fa6b",
   "metadata": {},
   "outputs": [
    {
     "name": "stdout",
     "output_type": "stream",
     "text": [
      "Students enrolled in both courses: {'kiran'}\n"
     ]
    }
   ],
   "source": [
    "first_course = {\"Samir\", \"kiran\", \"ram\", \"Shoyana\", \"Chandra\"}\n",
    "second_course = {\"samir\", \"kiran\", \"name3\", \"name4\", \"name5\"}\n",
    "\n",
    "both_course = first_course & second_course \n",
    "print(\"Students enrolled in both courses:\", both_course)"
   ]
  },
  {
   "cell_type": "code",
   "execution_count": 1,
   "id": "62f3ecd4-9b08-402a-9c20-193be9844412",
   "metadata": {},
   "outputs": [
    {
     "name": "stdout",
     "output_type": "stream",
     "text": [
      "Numpy Version 1.26.4\n",
      "panda Version 2.2.2\n"
     ]
    }
   ],
   "source": [
    "import numpy\n",
    "print(\"Numpy Version\", numpy.__version__)\n",
    "import pandas\n",
    "print(\"panda Version\", pandas.__version__)"
   ]
  },
  {
   "cell_type": "code",
   "execution_count": null,
   "id": "25338f56-9dee-4263-9b62-e239ac0eaa76",
   "metadata": {},
   "outputs": [],
   "source": []
  }
 ],
 "metadata": {
  "kernelspec": {
   "display_name": "Python [conda env:base] *",
   "language": "python",
   "name": "conda-base-py"
  },
  "language_info": {
   "codemirror_mode": {
    "name": "ipython",
    "version": 3
   },
   "file_extension": ".py",
   "mimetype": "text/x-python",
   "name": "python",
   "nbconvert_exporter": "python",
   "pygments_lexer": "ipython3",
   "version": "3.12.7"
  }
 },
 "nbformat": 4,
 "nbformat_minor": 5
}
