{
 "cells": [
  {
   "cell_type": "code",
   "execution_count": 7,
   "id": "2139eb83-457a-4446-8e49-f5163a925e04",
   "metadata": {},
   "outputs": [],
   "source": [
    "import numpy as np\n",
    "import pandas as pd\n",
    "from sklearn.linear_model import LinearRegression"
   ]
  },
  {
   "cell_type": "code",
   "execution_count": 15,
   "id": "b4967db1-c702-4ebe-8eca-c560007f6bf1",
   "metadata": {},
   "outputs": [
    {
     "data": {
      "text/plain": [
       "array([120, 130, 150, 180, 200, 210, 230, 240])"
      ]
     },
     "execution_count": 15,
     "metadata": {},
     "output_type": "execute_result"
    }
   ],
   "source": [
    "# House sizes (sq ft) and prices (in thousands of dollars)\n",
    "# Why Size is a nested list?\n",
    "X = np.array([[850], [900], [1200], [1500], [1700], [1850], [2000],[2100]])\n",
    "y = np.array([120, 130, 150, 180, 200, 210, 230, 240])\n",
    "y\n"
   ]
  },
  {
   "cell_type": "code",
   "execution_count": 34,
   "id": "cd53cc42-071b-4749-b29e-43ec06ac24c3",
   "metadata": {},
   "outputs": [
    {
     "name": "stdout",
     "output_type": "stream",
     "text": [
      "Predicted prices: [120.7338403  125.39543726 153.36501901 181.33460076 199.98098859\n",
      " 213.96577947 227.95057034 237.27376426]\n",
      "Predicted price for a house of size 1600 sq ft: $190657.79\n",
      "Predicted price for a house of size 4200 sq ft: $433060.84\n",
      "Slope (m): 0.09323193916349812\n",
      "Intercept (b): 41.48669201520909\n"
     ]
    }
   ],
   "source": [
    "model = LinearRegression()\n",
    "model.fit(X, y)\n",
    "LinearRegression()\n",
    "predictions = model.predict(X)\n",
    "print(\"Predicted prices:\", predictions)\n",
    "# Create a new input (random size of a house, e.g., 1600 sq ft)\n",
    "new_input = np.array([[1600]])\n",
    "\n",
    "#Make a prediction\n",
    "predicted_price = model.predict(new_input)\n",
    "print(f\"Predicted price for a house of size {new_input[0][0]} sq ft: ${predicted_price[0] * 1000:.2f}\")\n",
    "\n",
    "\n",
    "\n",
    "# Create a new input (random size of a house, e.g., 1600 sq ft)\n",
    "new_input = np.array([[4200]])\n",
    "\n",
    "#Make a prediction\n",
    "predicted_price = model.predict(new_input)\n",
    "print(f\"Predicted price for a house of size {new_input[0][0]} sq ft: ${predicted_price[0] * 1000:.2f}\")\n",
    "\n",
    "print(\"Slope (m):\", model.coef_[0])\n",
    "print(\"Intercept (b):\", model.intercept_)\n"
   ]
  },
  {
   "cell_type": "code",
   "execution_count": null,
   "id": "b517f14c-0f16-4174-a8db-7714e9b0ad60",
   "metadata": {},
   "outputs": [],
   "source": []
  },
  {
   "cell_type": "code",
   "execution_count": null,
   "id": "bf0df5fe-6201-444e-ab21-2bc2f101d5fa",
   "metadata": {},
   "outputs": [],
   "source": []
  }
 ],
 "metadata": {
  "kernelspec": {
   "display_name": "Python [conda env:base] *",
   "language": "python",
   "name": "conda-base-py"
  },
  "language_info": {
   "codemirror_mode": {
    "name": "ipython",
    "version": 3
   },
   "file_extension": ".py",
   "mimetype": "text/x-python",
   "name": "python",
   "nbconvert_exporter": "python",
   "pygments_lexer": "ipython3",
   "version": "3.12.7"
  }
 },
 "nbformat": 4,
 "nbformat_minor": 5
}
