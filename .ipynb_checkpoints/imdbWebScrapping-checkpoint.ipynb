{
 "cells": [
  {
   "cell_type": "code",
   "execution_count": 1,
   "id": "6b1ea188-f4fa-4d2b-a31f-60a7cc9ff500",
   "metadata": {},
   "outputs": [],
   "source": [
    "# Import the libraries\n",
    "import requests # For making HTTP requests\n",
    "from bs4 import BeautifulSoup # For parsing HTML content\n",
    "import pandas as pd # For creating, storing and manipulating DataFrames\n",
    "\n"
   ]
  },
  {
   "cell_type": "code",
   "execution_count": 13,
   "id": "c7e498f2-3978-4a81-a97d-9ac8580c1340",
   "metadata": {},
   "outputs": [
    {
     "name": "stdout",
     "output_type": "stream",
     "text": [
      "Failed to retrieve the page. Status code:403\n",
      "Successfully fetched the page!\n"
     ]
    }
   ],
   "source": [
    "#send a request to IMDB\n",
    "# Define the URL of the IMDb Top 250 movies page\n",
    "url = 'https://www.imdb.com/chart/top/'\n",
    "\n",
    "# Send an HTTP GET request to fetch the page content\n",
    "response = requests.get(url)\n",
    "response \n",
    "\n",
    "# Check if the request was successful (status code 200)\n",
    "if response.status_code == 200: # Condition to check .....\n",
    "    print(\"Successfully fetched the page!\")\n",
    "\n",
    "else:\n",
    "    print(f\"Failed to retrieve the page. Status code:{response.status_code}\")\n",
    "\n",
    "\n",
    "# Sometimes causes errors with some websites, so let's use headers\n",
    "# Set headers to mimic a browser request\n",
    "\"\"\" \n",
    "The User-Agent string in the headers simulates a request from a web browser. This often\n",
    "helps bypass simple bot detection mechanisms that websites may have in place.\n",
    "\"\"\"\n",
    "headers = {\n",
    "'User-Agent': 'Mozilla/5.0 (Windows NT 10.0; Win64; x64) \\\n",
    "AppleWebKit/537.36 (KHTML, like Gecko) Chrome/91.0.4472.124 \\\n",
    "Safari/537.36'\n",
    "}\n",
    "\n",
    "# Send an HTTP GET request with the headers\n",
    "response = requests.get(url, headers=headers)\n",
    "response\n",
    "\n",
    "# Check if the request was successful (status code 200)\n",
    "if response.status_code == 200:\n",
    "    print(\"Successfully fetched the page!\")\n",
    "else:\n",
    "    print(f\"Failed to retrieve the page. Status code:{response.status_code}\")\n"
   ]
  },
  {
   "cell_type": "code",
   "execution_count": 15,
   "id": "d08e1491-3638-4a71-9fe8-54f77f87475d",
   "metadata": {},
   "outputs": [
    {
     "name": "stdout",
     "output_type": "stream",
     "text": [
      "<!DOCTYPE html>\n",
      "<html lang=\"en-US\" xmlns:fb=\"http://www.facebook.com/2008/fbml\" xmlns:og=\"http://opengraphprotocol.org/schema/\">\n",
      " <head>\n",
      "  <meta charset=\"utf-8\"/>\n",
      "  <meta content=\"width=device-width\" name=\"viewport\"/>\n",
      "  <script>\n",
      "   if(typeof uet === 'function'){ uet('bb', 'LoadTitle', {wb: 1}); }\n",
      "  </script>\n",
      "  <script>\n",
      "   window.addEventListener('load', (event) => {\n",
      "        if (typeof window.csa !== 'undefined' && typeof window.csa === 'function') {\n",
      "            var csaLatencyPlugin = window.csa('Content', {\n",
      "                element: {\n",
      "                    slotId: 'LoadTitle',\n",
      "                    type: 'service-call'\n",
      "                }\n",
      "            });\n",
      "            csaLatencyPlugin('mark', 'clickToBodyBegin', 1742338645291);\n",
      "        }\n",
      "    })\n",
      "  </script>\n",
      "  <title>\n",
      "   IMDb Top 250 Movies\n",
      "  </title>\n",
      "  <meta content=\"As rated by regular IMDb voters.\" data-id=\"main\" name=\"description\"/>\n",
      "  <meta content=\"max-image-preview:large\" name=\"robots\"/>\n",
      "  <script type=\"application/ld+json\">\n",
      "   {\"@type\":\"ItemList\",\"itemListElement\":[{\"@type\":\"ListItem\",\"item\":{\"@type\":\"Movie\",\"url\":\"https://www.imdb.com/title/tt0111161/\",\"name\":\"The Shawshank Redemption\",\"description\":\"A banker convicted of uxoricide forms a friendship over a quarter century with a hardened convict, while maintaining his innocence and trying to remain hopeful through simple compassion.\",\"image\":\"https://m.media-amazon.com/images/M/MV5BMDAyY2FhYjctNDc5OS00MDNlLThiMGUtY2UxYWVkNGY2ZjljXkEyXkFqcGc@._V1_.jpg\",\"aggregateRating\":{\"@type\":\"AggregateRating\",\"bestRating\":10,\"worstRating\":1,\"ratingValue\":9.3,\"ratingCount\":3020069},\"contentRating\":\"R\",\"genre\":\"Drama\",\"duration\":\"PT2H22M\"}},{\"@type\":\"ListItem\",\"item\":{\"@type\":\"Movie\",\"url\":\"https://www.imdb.com/title/tt0068646/\",\"name\":\"The Godfather\",\"description\":\"The aging patriarch of an organized crime dynasty transfers control of his clandestine empire to his reluctant son.\",\"image\":\"https://m.media-amazon.com/images/M/MV5BNGEwYjgwOGQtYjg5ZS00Njc1LTk2ZGEtM2QwZWQ2NjdhZTE5XkEyXkF\n"
     ]
    }
   ],
   "source": [
    "#parse the html content\n",
    "\n",
    "# Parse the HTML content of the page using Beautiful Soup\n",
    "soup = BeautifulSoup(response.content, 'html.parser') #soup\n",
    "# Print the parsed HTML to verify\n",
    "print(soup.prettify()[:2000]) # method in Beautiful Soup that formats\n"
   ]
  },
  {
   "cell_type": "code",
   "execution_count": 43,
   "id": "22491096-b2b6-4377-908e-d3d434ca9bdd",
   "metadata": {},
   "outputs": [
    {
     "data": {
      "text/plain": [
       "[]"
      ]
     },
     "execution_count": 43,
     "metadata": {},
     "output_type": "execute_result"
    }
   ],
   "source": [
    "\n",
    "# Find the JSON data in the script tag\n",
    "import json\n",
    "json_data = soup.find('script', type='application/ld+json')\n",
    "if json_data:\n",
    "# Parse the JSON data\n",
    "    data = json.loads(json_data.string)\n",
    "\n",
    "data # observe data\n",
    "#extract movie data\n",
    "# Create empty lists to store movie titles, years, ratings, and URLs\n",
    "titles = []\n",
    "years = []\n",
    "ratings = []\n",
    "urls = []\n",
    "descriptions = []\n",
    "best_ratings = []\n",
    "worst_ratings = []\n",
    "genres = []\n",
    "durations = []\n",
    "# Find all the movie items in the HTML\n",
    "movie_items = soup.find_all('item')\n",
    "movie_items\n",
    "[]"
   ]
  },
  {
   "cell_type": "code",
   "execution_count": 45,
   "id": "70ca5429-2afd-4959-855e-b41ab2aacd9a",
   "metadata": {},
   "outputs": [],
   "source": [
    "# Check if the data contains the expected structure\n",
    "if 'itemListElement' in data:\n",
    "    for item in data['itemListElement']:\n",
    "        movie = item['item']\n",
    "# Extract movie details\n",
    "        titles.append(movie['name']) # Movie name\n",
    "        urls.append(movie['url']) # Movie URL\n",
    "        descriptions.append(movie['description']) # Movie description\n",
    "# Extract ratings (best, worst, actual rating)\n",
    "        best_ratings.append(movie['aggregateRating']['bestRating'])  #Best rating\n",
    "        worst_ratings.append(movie['aggregateRating']['worstRating']) # Worst rating\n",
    "        ratings.append(float(movie['aggregateRating']['ratingValue'])) # Rating value\n",
    "        genres.append(movie['genre']) # Movie genre\n",
    "        durations.append(movie['duration']) # Movie duration"
   ]
  },
  {
   "cell_type": "code",
   "execution_count": 49,
   "id": "ff3d3754-8f51-47a0-aaa2-4d68f900e55b",
   "metadata": {},
   "outputs": [
    {
     "data": {
      "text/html": [
       "<div>\n",
       "<style scoped>\n",
       "    .dataframe tbody tr th:only-of-type {\n",
       "        vertical-align: middle;\n",
       "    }\n",
       "\n",
       "    .dataframe tbody tr th {\n",
       "        vertical-align: top;\n",
       "    }\n",
       "\n",
       "    .dataframe thead th {\n",
       "        text-align: right;\n",
       "    }\n",
       "</style>\n",
       "<table border=\"1\" class=\"dataframe\">\n",
       "  <thead>\n",
       "    <tr style=\"text-align: right;\">\n",
       "      <th></th>\n",
       "      <th>Title</th>\n",
       "      <th>URL</th>\n",
       "      <th>Description</th>\n",
       "      <th>Best Rating</th>\n",
       "      <th>Worst Rating</th>\n",
       "      <th>Rating</th>\n",
       "      <th>Genre</th>\n",
       "      <th>Duration</th>\n",
       "    </tr>\n",
       "  </thead>\n",
       "  <tbody>\n",
       "    <tr>\n",
       "      <th>0</th>\n",
       "      <td>The Shawshank Redemption</td>\n",
       "      <td>https://www.imdb.com/title/tt0111161/</td>\n",
       "      <td>A banker convicted of uxoricide forms a friend...</td>\n",
       "      <td>10</td>\n",
       "      <td>1</td>\n",
       "      <td>9.3</td>\n",
       "      <td>Drama</td>\n",
       "      <td>PT2H22M</td>\n",
       "    </tr>\n",
       "    <tr>\n",
       "      <th>1</th>\n",
       "      <td>The Godfather</td>\n",
       "      <td>https://www.imdb.com/title/tt0068646/</td>\n",
       "      <td>The aging patriarch of an organized crime dyna...</td>\n",
       "      <td>10</td>\n",
       "      <td>1</td>\n",
       "      <td>9.2</td>\n",
       "      <td>Crime, Drama</td>\n",
       "      <td>PT2H55M</td>\n",
       "    </tr>\n",
       "    <tr>\n",
       "      <th>2</th>\n",
       "      <td>The Dark Knight</td>\n",
       "      <td>https://www.imdb.com/title/tt0468569/</td>\n",
       "      <td>When a menace known as the Joker wreaks havoc ...</td>\n",
       "      <td>10</td>\n",
       "      <td>1</td>\n",
       "      <td>9.0</td>\n",
       "      <td>Action, Crime, Drama</td>\n",
       "      <td>PT2H32M</td>\n",
       "    </tr>\n",
       "    <tr>\n",
       "      <th>3</th>\n",
       "      <td>The Godfather Part II</td>\n",
       "      <td>https://www.imdb.com/title/tt0071562/</td>\n",
       "      <td>The early life and career of Vito Corleone in ...</td>\n",
       "      <td>10</td>\n",
       "      <td>1</td>\n",
       "      <td>9.0</td>\n",
       "      <td>Crime, Drama</td>\n",
       "      <td>PT3H22M</td>\n",
       "    </tr>\n",
       "    <tr>\n",
       "      <th>4</th>\n",
       "      <td>12 Angry Men</td>\n",
       "      <td>https://www.imdb.com/title/tt0050083/</td>\n",
       "      <td>The jury in a New York City murder trial is fr...</td>\n",
       "      <td>10</td>\n",
       "      <td>1</td>\n",
       "      <td>9.0</td>\n",
       "      <td>Crime, Drama</td>\n",
       "      <td>PT1H36M</td>\n",
       "    </tr>\n",
       "  </tbody>\n",
       "</table>\n",
       "</div>"
      ],
      "text/plain": [
       "                      Title                                    URL  \\\n",
       "0  The Shawshank Redemption  https://www.imdb.com/title/tt0111161/   \n",
       "1             The Godfather  https://www.imdb.com/title/tt0068646/   \n",
       "2           The Dark Knight  https://www.imdb.com/title/tt0468569/   \n",
       "3     The Godfather Part II  https://www.imdb.com/title/tt0071562/   \n",
       "4              12 Angry Men  https://www.imdb.com/title/tt0050083/   \n",
       "\n",
       "                                         Description  Best Rating  \\\n",
       "0  A banker convicted of uxoricide forms a friend...           10   \n",
       "1  The aging patriarch of an organized crime dyna...           10   \n",
       "2  When a menace known as the Joker wreaks havoc ...           10   \n",
       "3  The early life and career of Vito Corleone in ...           10   \n",
       "4  The jury in a New York City murder trial is fr...           10   \n",
       "\n",
       "   Worst Rating  Rating                 Genre Duration  \n",
       "0             1     9.3                 Drama  PT2H22M  \n",
       "1             1     9.2          Crime, Drama  PT2H55M  \n",
       "2             1     9.0  Action, Crime, Drama  PT2H32M  \n",
       "3             1     9.0          Crime, Drama  PT3H22M  \n",
       "4             1     9.0          Crime, Drama  PT1H36M  "
      ]
     },
     "execution_count": 49,
     "metadata": {},
     "output_type": "execute_result"
    }
   ],
   "source": [
    "#create a dataframe\n",
    "import pandas as pd\n",
    "# Create a DataFrame to store the scraped data\n",
    "df = pd.DataFrame({\n",
    "'Title': titles,\n",
    "'URL': urls,\n",
    "'Description': descriptions,\n",
    "'Best Rating': best_ratings,\n",
    "'Worst Rating': worst_ratings,\n",
    "'Rating': ratings,\n",
    "'Genre': genres,\n",
    "'Duration': durations\n",
    "})\n",
    "df.head()"
   ]
  },
  {
   "cell_type": "code",
   "execution_count": 53,
   "id": "409226f6-ece7-48d1-a0ad-ad9289063d64",
   "metadata": {},
   "outputs": [
    {
     "name": "stdout",
     "output_type": "stream",
     "text": [
      "Data saved in CSV format'\n"
     ]
    }
   ],
   "source": [
    "#save data to csv file\n",
    "# Save the DataFrame to a CSV file\n",
    "df.to_csv('topIMBDmovies.csv', index=False) # Setting index=False excludes the row index from being written to the file.\n",
    "print(\"Data saved in CSV format'\")"
   ]
  },
  {
   "cell_type": "code",
   "execution_count": null,
   "id": "4a225699-70d0-415e-8e33-2744e5500e04",
   "metadata": {},
   "outputs": [],
   "source": []
  }
 ],
 "metadata": {
  "kernelspec": {
   "display_name": "Python [conda env:base] *",
   "language": "python",
   "name": "conda-base-py"
  },
  "language_info": {
   "codemirror_mode": {
    "name": "ipython",
    "version": 3
   },
   "file_extension": ".py",
   "mimetype": "text/x-python",
   "name": "python",
   "nbconvert_exporter": "python",
   "pygments_lexer": "ipython3",
   "version": "3.12.7"
  }
 },
 "nbformat": 4,
 "nbformat_minor": 5
}
